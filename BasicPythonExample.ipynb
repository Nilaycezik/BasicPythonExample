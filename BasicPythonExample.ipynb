{
 "cells": [
  {
   "cell_type": "markdown",
   "id": "7022ffb8",
   "metadata": {},
   "source": [
    "##### Python Encapsulation-Erişim Engelleme"
   ]
  },
  {
   "cell_type": "code",
   "execution_count": 11,
   "id": "6e5d5105",
   "metadata": {},
   "outputs": [],
   "source": [
    "class Personel:\n",
    "    def __init__(self,isim,soyisim,yas,maas,uzmanlık):\n",
    "        self.isim=isim\n",
    "        self.soyisim=soyisim\n",
    "        self.yas=yas\n",
    "        self.__maas=maas\n",
    "        self.uzmanlık=uzmanlık\n",
    "    \n",
    "    def info(self):\n",
    "        print(\"{}{}{} yasında ve maası {} olan bir {}personelimizdir.\".format(self.isim,self.soyisim,self.yas,self.__maas,self.uzmanlık))\n",
    "    \n",
    "    def getMaas(self):\n",
    "        return self.__maas\n",
    "    def setMaas(self,yeni_maas):\n",
    "        self.__maas=yeni_maas"
   ]
  },
  {
   "cell_type": "code",
   "execution_count": 12,
   "id": "e0494f11",
   "metadata": {},
   "outputs": [],
   "source": [
    "personel=Personel(\"nilay\",\"cezik\",23,10000,\"Bilgisayar Mühendisi\")"
   ]
  },
  {
   "cell_type": "code",
   "execution_count": 13,
   "id": "90b27bb2",
   "metadata": {},
   "outputs": [
    {
     "data": {
      "text/plain": [
       "10000"
      ]
     },
     "execution_count": 13,
     "metadata": {},
     "output_type": "execute_result"
    }
   ],
   "source": [
    "personel.getMaas()"
   ]
  },
  {
   "cell_type": "code",
   "execution_count": 14,
   "id": "6c55de1d",
   "metadata": {},
   "outputs": [],
   "source": [
    "personel.setMaas(5000)"
   ]
  },
  {
   "cell_type": "code",
   "execution_count": 15,
   "id": "e2f1b78e",
   "metadata": {},
   "outputs": [
    {
     "data": {
      "text/plain": [
       "5000"
      ]
     },
     "execution_count": 15,
     "metadata": {},
     "output_type": "execute_result"
    }
   ],
   "source": [
    "personel.getMaas()"
   ]
  },
  {
   "cell_type": "markdown",
   "id": "3ccf33f5",
   "metadata": {},
   "source": [
    "##### Python Inheritance - Kalıtım"
   ]
  },
  {
   "cell_type": "code",
   "execution_count": 16,
   "id": "7074d289",
   "metadata": {},
   "outputs": [],
   "source": [
    "class Ofis:\n",
    "    def __init__(self,isim,soyisim,yas):\n",
    "        self.isim=isim\n",
    "        self.soyisim=soyisim\n",
    "        self.yas=yas"
   ]
  },
  {
   "cell_type": "code",
   "execution_count": 19,
   "id": "9ed80932",
   "metadata": {},
   "outputs": [],
   "source": [
    "class Personel(Ofis):\n",
    "    def __init__(self,isim,soyisim,yas):\n",
    "        super().__init__(isim,soyisim,yas)\n",
    "        \n",
    "    def info(self):\n",
    "        print(\"{}{}{} yasında olan personelimizdir.\".format(self.isim,self.soyisim,self.yas))\n",
    "        \n"
   ]
  },
  {
   "cell_type": "code",
   "execution_count": 21,
   "id": "5b10cfc7",
   "metadata": {},
   "outputs": [],
   "source": [
    "personel=Personel(\"nilay\",\"cezik\",23)"
   ]
  },
  {
   "cell_type": "markdown",
   "id": "2ebfa2bf",
   "metadata": {},
   "source": [
    "##### Ptyhon Abstract Class- Soyut Sınıflar"
   ]
  },
  {
   "cell_type": "code",
   "execution_count": 37,
   "id": "4019060e",
   "metadata": {},
   "outputs": [],
   "source": [
    "from abc import ABC,abstractmethod\n",
    "class Animal:\n",
    "    @abstractmethod\n",
    "    def walk(self):\n",
    "        print(\"Hayvan yürüyor\")\n",
    "    @abstractmethod\n",
    "    def run(self):\n",
    "        print(\"Hayvan koşuyor\")\n",
    "class Leo(Animal):\n",
    "    def walk(self):\n",
    "        print(\"Aslan yürüyor\")\n",
    "    @abstractmethod\n",
    "    def run(self):\n",
    "        print(\"Aslan koşuyor\")"
   ]
  },
  {
   "cell_type": "code",
   "execution_count": 38,
   "id": "78b676eb",
   "metadata": {},
   "outputs": [],
   "source": [
    "leo=Animal()"
   ]
  },
  {
   "cell_type": "code",
   "execution_count": 39,
   "id": "57713e66",
   "metadata": {},
   "outputs": [
    {
     "name": "stdout",
     "output_type": "stream",
     "text": [
      "Hayvan yürüyor\n"
     ]
    }
   ],
   "source": [
    "leo.walk()"
   ]
  },
  {
   "cell_type": "code",
   "execution_count": 40,
   "id": "09ad8293",
   "metadata": {},
   "outputs": [],
   "source": [
    "leo_obj=Leo()"
   ]
  },
  {
   "cell_type": "code",
   "execution_count": 41,
   "id": "a254cd6a",
   "metadata": {},
   "outputs": [
    {
     "name": "stdout",
     "output_type": "stream",
     "text": [
      "Aslan koşuyor\n"
     ]
    }
   ],
   "source": [
    "leo_obj.run()"
   ]
  },
  {
   "cell_type": "markdown",
   "id": "db22d90a",
   "metadata": {},
   "source": [
    "##### Modül- Paket ve Kütüphaneler"
   ]
  },
  {
   "cell_type": "markdown",
   "id": "b8f95285",
   "metadata": {},
   "source": [
    "###### Math Modülü"
   ]
  },
  {
   "cell_type": "code",
   "execution_count": 42,
   "id": "25afbbcb",
   "metadata": {},
   "outputs": [],
   "source": [
    "import math"
   ]
  },
  {
   "cell_type": "code",
   "execution_count": 43,
   "id": "53c3a474",
   "metadata": {},
   "outputs": [
    {
     "data": {
      "text/plain": [
       "720"
      ]
     },
     "execution_count": 43,
     "metadata": {},
     "output_type": "execute_result"
    }
   ],
   "source": [
    "math.factorial(6)"
   ]
  },
  {
   "cell_type": "code",
   "execution_count": 44,
   "id": "4d816cbf",
   "metadata": {},
   "outputs": [
    {
     "data": {
      "text/plain": [
       "2.23606797749979"
      ]
     },
     "execution_count": 44,
     "metadata": {},
     "output_type": "execute_result"
    }
   ],
   "source": [
    "math.sqrt(5)"
   ]
  },
  {
   "cell_type": "code",
   "execution_count": 45,
   "id": "0dc9044c",
   "metadata": {},
   "outputs": [],
   "source": [
    "import math as matematik"
   ]
  },
  {
   "cell_type": "code",
   "execution_count": 46,
   "id": "23af9436",
   "metadata": {},
   "outputs": [
    {
     "data": {
      "text/plain": [
       "3.141592653589793"
      ]
     },
     "execution_count": 46,
     "metadata": {},
     "output_type": "execute_result"
    }
   ],
   "source": [
    "matematik.pi"
   ]
  },
  {
   "cell_type": "code",
   "execution_count": 47,
   "id": "96da1044",
   "metadata": {},
   "outputs": [],
   "source": [
    "from math import factorial"
   ]
  },
  {
   "cell_type": "code",
   "execution_count": 48,
   "id": "e8517d9e",
   "metadata": {},
   "outputs": [
    {
     "data": {
      "text/plain": [
       "1307674368000"
      ]
     },
     "execution_count": 48,
     "metadata": {},
     "output_type": "execute_result"
    }
   ],
   "source": [
    "factorial(15)"
   ]
  },
  {
   "cell_type": "code",
   "execution_count": 49,
   "id": "24eaf7c2",
   "metadata": {},
   "outputs": [],
   "source": [
    "from math import *"
   ]
  },
  {
   "cell_type": "code",
   "execution_count": 50,
   "id": "90081469",
   "metadata": {},
   "outputs": [
    {
     "data": {
      "text/plain": [
       "2.449489742783178"
      ]
     },
     "execution_count": 50,
     "metadata": {},
     "output_type": "execute_result"
    }
   ],
   "source": [
    "sqrt(6)"
   ]
  },
  {
   "cell_type": "markdown",
   "id": "b4dbdfcb",
   "metadata": {},
   "source": [
    "###### Datetime Modülü"
   ]
  },
  {
   "cell_type": "code",
   "execution_count": 51,
   "id": "7e19a615",
   "metadata": {},
   "outputs": [],
   "source": [
    "import datetime"
   ]
  },
  {
   "cell_type": "code",
   "execution_count": 53,
   "id": "fdc5dfce",
   "metadata": {},
   "outputs": [],
   "source": [
    "now=datetime.datetime.now()"
   ]
  },
  {
   "cell_type": "code",
   "execution_count": 55,
   "id": "8983a8a6",
   "metadata": {},
   "outputs": [
    {
     "data": {
      "text/plain": [
       "'16/08/21 14:38:16'"
      ]
     },
     "execution_count": 55,
     "metadata": {},
     "output_type": "execute_result"
    }
   ],
   "source": [
    "now.strftime(\"%d/%m/%y %H:%M:%S\")"
   ]
  },
  {
   "cell_type": "code",
   "execution_count": 57,
   "id": "3c4bf577",
   "metadata": {},
   "outputs": [],
   "source": [
    "from datetime import date"
   ]
  },
  {
   "cell_type": "code",
   "execution_count": 62,
   "id": "d2bced6c",
   "metadata": {},
   "outputs": [],
   "source": [
    "today=date.today()"
   ]
  },
  {
   "cell_type": "code",
   "execution_count": 64,
   "id": "a5f92df5",
   "metadata": {},
   "outputs": [
    {
     "data": {
      "text/plain": [
       "16"
      ]
     },
     "execution_count": 64,
     "metadata": {},
     "output_type": "execute_result"
    }
   ],
   "source": [
    "today.day"
   ]
  },
  {
   "cell_type": "code",
   "execution_count": 65,
   "id": "5376920b",
   "metadata": {},
   "outputs": [
    {
     "data": {
      "text/plain": [
       "8"
      ]
     },
     "execution_count": 65,
     "metadata": {},
     "output_type": "execute_result"
    }
   ],
   "source": [
    "today.month"
   ]
  },
  {
   "cell_type": "code",
   "execution_count": 66,
   "id": "13660ca1",
   "metadata": {},
   "outputs": [
    {
     "data": {
      "text/plain": [
       "2021"
      ]
     },
     "execution_count": 66,
     "metadata": {},
     "output_type": "execute_result"
    }
   ],
   "source": [
    "today.year"
   ]
  },
  {
   "cell_type": "code",
   "execution_count": 69,
   "id": "ce845f88",
   "metadata": {},
   "outputs": [
    {
     "data": {
      "text/plain": [
       "datetime.date(2022, 6, 23)"
      ]
     },
     "execution_count": 69,
     "metadata": {},
     "output_type": "execute_result"
    }
   ],
   "source": [
    "new=date(2022,6,23)\n",
    "new"
   ]
  },
  {
   "cell_type": "markdown",
   "id": "01ceef84",
   "metadata": {},
   "source": [
    "###### Time Modülü"
   ]
  },
  {
   "cell_type": "code",
   "execution_count": 70,
   "id": "35ae9919",
   "metadata": {},
   "outputs": [],
   "source": [
    "from datetime import time"
   ]
  },
  {
   "cell_type": "code",
   "execution_count": 71,
   "id": "3fc0b6b5",
   "metadata": {},
   "outputs": [],
   "source": [
    "time=time(10,23,45,245)"
   ]
  },
  {
   "cell_type": "code",
   "execution_count": 72,
   "id": "d9fcbb64",
   "metadata": {},
   "outputs": [
    {
     "data": {
      "text/plain": [
       "10"
      ]
     },
     "execution_count": 72,
     "metadata": {},
     "output_type": "execute_result"
    }
   ],
   "source": [
    "time.hour"
   ]
  },
  {
   "cell_type": "code",
   "execution_count": 73,
   "id": "b24c60d6",
   "metadata": {},
   "outputs": [
    {
     "data": {
      "text/plain": [
       "23"
      ]
     },
     "execution_count": 73,
     "metadata": {},
     "output_type": "execute_result"
    }
   ],
   "source": [
    "time.minute"
   ]
  },
  {
   "cell_type": "code",
   "execution_count": 74,
   "id": "9c183128",
   "metadata": {},
   "outputs": [
    {
     "data": {
      "text/plain": [
       "45"
      ]
     },
     "execution_count": 74,
     "metadata": {},
     "output_type": "execute_result"
    }
   ],
   "source": [
    "time.second"
   ]
  },
  {
   "cell_type": "code",
   "execution_count": 75,
   "id": "269ab067",
   "metadata": {},
   "outputs": [
    {
     "data": {
      "text/plain": [
       "245"
      ]
     },
     "execution_count": 75,
     "metadata": {},
     "output_type": "execute_result"
    }
   ],
   "source": [
    "time.microsecond"
   ]
  },
  {
   "cell_type": "code",
   "execution_count": 78,
   "id": "4135be21",
   "metadata": {},
   "outputs": [
    {
     "data": {
      "text/plain": [
       "datetime.timedelta(-451)"
      ]
     },
     "execution_count": 78,
     "metadata": {},
     "output_type": "execute_result"
    }
   ],
   "source": [
    "date1=date(2020,5,22)\n",
    "date2=date(2021,8,16)\n",
    "date1-date2"
   ]
  },
  {
   "cell_type": "code",
   "execution_count": 90,
   "id": "d0cf71b4",
   "metadata": {},
   "outputs": [],
   "source": [
    "import time"
   ]
  },
  {
   "cell_type": "code",
   "execution_count": 91,
   "id": "014d48ee",
   "metadata": {
    "scrolled": true
   },
   "outputs": [
    {
     "data": {
      "text/plain": [
       "time.struct_time(tm_year=2021, tm_mon=8, tm_mday=16, tm_hour=14, tm_min=50, tm_sec=16, tm_wday=0, tm_yday=228, tm_isdst=0)"
      ]
     },
     "execution_count": 91,
     "metadata": {},
     "output_type": "execute_result"
    }
   ],
   "source": [
    "time.localtime()"
   ]
  },
  {
   "cell_type": "code",
   "execution_count": 92,
   "id": "cbd91660",
   "metadata": {},
   "outputs": [
    {
     "name": "stdout",
     "output_type": "stream",
     "text": [
      "14:50:17\n",
      "14:50:18\n",
      "14:50:19\n"
     ]
    },
    {
     "ename": "KeyboardInterrupt",
     "evalue": "",
     "output_type": "error",
     "traceback": [
      "\u001b[1;31m---------------------------------------------------------------------------\u001b[0m",
      "\u001b[1;31mKeyboardInterrupt\u001b[0m                         Traceback (most recent call last)",
      "\u001b[1;32m<ipython-input-92-3f45ef74be8d>\u001b[0m in \u001b[0;36m<module>\u001b[1;34m\u001b[0m\n\u001b[0;32m      2\u001b[0m     \u001b[0mzaman\u001b[0m \u001b[1;33m=\u001b[0m\u001b[0mtime\u001b[0m\u001b[1;33m.\u001b[0m\u001b[0mstrftime\u001b[0m\u001b[1;33m(\u001b[0m\u001b[1;34m\"%H:%M:%S\"\u001b[0m\u001b[1;33m)\u001b[0m\u001b[1;33m\u001b[0m\u001b[1;33m\u001b[0m\u001b[0m\n\u001b[0;32m      3\u001b[0m     \u001b[0mprint\u001b[0m\u001b[1;33m(\u001b[0m\u001b[0mzaman\u001b[0m\u001b[1;33m)\u001b[0m\u001b[1;33m\u001b[0m\u001b[1;33m\u001b[0m\u001b[0m\n\u001b[1;32m----> 4\u001b[1;33m     \u001b[0mtime\u001b[0m\u001b[1;33m.\u001b[0m\u001b[0msleep\u001b[0m\u001b[1;33m(\u001b[0m\u001b[1;36m1\u001b[0m\u001b[1;33m)\u001b[0m\u001b[1;33m\u001b[0m\u001b[1;33m\u001b[0m\u001b[0m\n\u001b[0m",
      "\u001b[1;31mKeyboardInterrupt\u001b[0m: "
     ]
    }
   ],
   "source": [
    "while True:\n",
    "    zaman =time.strftime(\"%H:%M:%S\")\n",
    "    print(zaman)\n",
    "    time.sleep(1)"
   ]
  },
  {
   "cell_type": "markdown",
   "id": "1a03ca58",
   "metadata": {},
   "source": [
    "###### Hatalar ve İstisnalar"
   ]
  },
  {
   "cell_type": "markdown",
   "id": "30c23e67",
   "metadata": {},
   "source": [
    "###### Try-Catch"
   ]
  },
  {
   "cell_type": "code",
   "execution_count": 97,
   "id": "cf771622",
   "metadata": {},
   "outputs": [
    {
     "ename": "IndentationError",
     "evalue": "expected an indented block (<ipython-input-97-e821ea431a61>, line 2)",
     "output_type": "error",
     "traceback": [
      "\u001b[1;36m  File \u001b[1;32m\"<ipython-input-97-e821ea431a61>\"\u001b[1;36m, line \u001b[1;32m2\u001b[0m\n\u001b[1;33m    print(x+y)\u001b[0m\n\u001b[1;37m        ^\u001b[0m\n\u001b[1;31mIndentationError\u001b[0m\u001b[1;31m:\u001b[0m expected an indented block\n"
     ]
    }
   ],
   "source": [
    "def topla(x,y):\n",
    "print(x+y)"
   ]
  },
  {
   "cell_type": "code",
   "execution_count": 98,
   "id": "3ec3e942",
   "metadata": {},
   "outputs": [
    {
     "ename": "SyntaxError",
     "evalue": "invalid syntax (<ipython-input-98-dad6cc25e412>, line 1)",
     "output_type": "error",
     "traceback": [
      "\u001b[1;36m  File \u001b[1;32m\"<ipython-input-98-dad6cc25e412>\"\u001b[1;36m, line \u001b[1;32m1\u001b[0m\n\u001b[1;33m    if 5>1\u001b[0m\n\u001b[1;37m          ^\u001b[0m\n\u001b[1;31mSyntaxError\u001b[0m\u001b[1;31m:\u001b[0m invalid syntax\n"
     ]
    }
   ],
   "source": [
    "if 5>1\n",
    "    print(\"5 büyük 1\")"
   ]
  },
  {
   "cell_type": "code",
   "execution_count": 99,
   "id": "d3699150",
   "metadata": {},
   "outputs": [
    {
     "ename": "TypeError",
     "evalue": "unsupported operand type(s) for +: 'int' and 'str'",
     "output_type": "error",
     "traceback": [
      "\u001b[1;31m---------------------------------------------------------------------------\u001b[0m",
      "\u001b[1;31mTypeError\u001b[0m                                 Traceback (most recent call last)",
      "\u001b[1;32m<ipython-input-99-ed648db646c3>\u001b[0m in \u001b[0;36m<module>\u001b[1;34m\u001b[0m\n\u001b[0;32m      1\u001b[0m \u001b[0mx\u001b[0m\u001b[1;33m=\u001b[0m\u001b[1;36m5\u001b[0m\u001b[1;33m\u001b[0m\u001b[1;33m\u001b[0m\u001b[0m\n\u001b[0;32m      2\u001b[0m \u001b[0my\u001b[0m\u001b[1;33m=\u001b[0m\u001b[1;34m\"10\"\u001b[0m\u001b[1;33m\u001b[0m\u001b[1;33m\u001b[0m\u001b[0m\n\u001b[1;32m----> 3\u001b[1;33m \u001b[0mx\u001b[0m\u001b[1;33m+\u001b[0m\u001b[0my\u001b[0m\u001b[1;33m\u001b[0m\u001b[1;33m\u001b[0m\u001b[0m\n\u001b[0m",
      "\u001b[1;31mTypeError\u001b[0m: unsupported operand type(s) for +: 'int' and 'str'"
     ]
    }
   ],
   "source": [
    "x=5\n",
    "y=\"10\"\n",
    "x+y"
   ]
  },
  {
   "cell_type": "code",
   "execution_count": 101,
   "id": "b4598d29",
   "metadata": {},
   "outputs": [
    {
     "name": "stdout",
     "output_type": "stream",
     "text": [
      "bir sayı giriniz:10\n",
      "ikinci sayıyı giriniz:0\n"
     ]
    },
    {
     "ename": "ZeroDivisionError",
     "evalue": "division by zero",
     "output_type": "error",
     "traceback": [
      "\u001b[1;31m---------------------------------------------------------------------------\u001b[0m",
      "\u001b[1;31mZeroDivisionError\u001b[0m                         Traceback (most recent call last)",
      "\u001b[1;32m<ipython-input-101-7629c95d4b58>\u001b[0m in \u001b[0;36m<module>\u001b[1;34m\u001b[0m\n\u001b[0;32m      1\u001b[0m \u001b[0mx\u001b[0m\u001b[1;33m=\u001b[0m\u001b[0mint\u001b[0m\u001b[1;33m(\u001b[0m\u001b[0minput\u001b[0m\u001b[1;33m(\u001b[0m\u001b[1;34m\"bir sayı giriniz:\"\u001b[0m\u001b[1;33m)\u001b[0m\u001b[1;33m)\u001b[0m\u001b[1;33m\u001b[0m\u001b[1;33m\u001b[0m\u001b[0m\n\u001b[0;32m      2\u001b[0m \u001b[0my\u001b[0m\u001b[1;33m=\u001b[0m\u001b[0mint\u001b[0m\u001b[1;33m(\u001b[0m\u001b[0minput\u001b[0m\u001b[1;33m(\u001b[0m\u001b[1;34m\"ikinci sayıyı giriniz:\"\u001b[0m\u001b[1;33m)\u001b[0m\u001b[1;33m)\u001b[0m\u001b[1;33m\u001b[0m\u001b[1;33m\u001b[0m\u001b[0m\n\u001b[1;32m----> 3\u001b[1;33m \u001b[0mx\u001b[0m\u001b[1;33m/\u001b[0m\u001b[0my\u001b[0m\u001b[1;33m\u001b[0m\u001b[1;33m\u001b[0m\u001b[0m\n\u001b[0m",
      "\u001b[1;31mZeroDivisionError\u001b[0m: division by zero"
     ]
    }
   ],
   "source": [
    "x=int(input(\"bir sayı giriniz:\"))\n",
    "y=int(input(\"ikinci sayıyı giriniz:\"))\n",
    "x/y"
   ]
  },
  {
   "cell_type": "code",
   "execution_count": 102,
   "id": "a8a18b4d",
   "metadata": {},
   "outputs": [
    {
     "name": "stdout",
     "output_type": "stream",
     "text": [
      "bir sayı giriniz:10\n",
      "ikinci sayıyı giriniz:0\n",
      "Sıfıra bölünme hatası\n"
     ]
    }
   ],
   "source": [
    "try:\n",
    "    x=int(input(\"bir sayı giriniz:\"))\n",
    "    y=int(input(\"ikinci sayıyı giriniz:\"))\n",
    "    x/y\n",
    "except:\n",
    "    print(\"Sıfıra bölünme hatası\")"
   ]
  },
  {
   "cell_type": "code",
   "execution_count": 105,
   "id": "69113639",
   "metadata": {},
   "outputs": [
    {
     "name": "stdout",
     "output_type": "stream",
     "text": [
      "bir sayı giriniz:20\n",
      "ikinci sayıyı giriniz:aasdasd\n",
      "Lütfen bir sayı giriniz\n"
     ]
    }
   ],
   "source": [
    "try:\n",
    "    x=int(input(\"bir sayı giriniz:\"))\n",
    "    y=int(input(\"ikinci sayıyı giriniz:\"))\n",
    "    x/y\n",
    "except ValueError:\n",
    "    print(\"Lütfen bir sayı giriniz\")\n",
    "except TypeError:\n",
    "    print(\"Veri tiplerinde bir hata var\")\n",
    "except ZeroDivisionError:\n",
    "    print(\"Sıfırdan farklı bir değer giriniz\")"
   ]
  },
  {
   "cell_type": "markdown",
   "id": "b41c05a2",
   "metadata": {},
   "source": [
    "###### Finally-Raise"
   ]
  },
  {
   "cell_type": "code",
   "execution_count": 106,
   "id": "7fbdc0a5",
   "metadata": {},
   "outputs": [
    {
     "name": "stdout",
     "output_type": "stream",
     "text": [
      "bir sayı giriniz:10\n",
      "ikinci sayıyı giriniz:0\n",
      "hata oluştu\n",
      "ne olursa olsun çalışacak\n"
     ]
    }
   ],
   "source": [
    "try:\n",
    "    x=int(input(\"bir sayı giriniz:\"))\n",
    "    y=int(input(\"ikinci sayıyı giriniz:\"))\n",
    "    x/y\n",
    "    \n",
    "except:\n",
    "    print(\"hata oluştu\")\n",
    "finally:\n",
    "    print(\"ne olursa olsun çalışacak\")"
   ]
  },
  {
   "cell_type": "code",
   "execution_count": 110,
   "id": "0da8635f",
   "metadata": {},
   "outputs": [],
   "source": [
    "class SıfırHatası(Exception):\n",
    "    pass"
   ]
  },
  {
   "cell_type": "code",
   "execution_count": 111,
   "id": "8e999d2b",
   "metadata": {},
   "outputs": [
    {
     "name": "stdout",
     "output_type": "stream",
     "text": [
      "bir sayı giriniz:0\n"
     ]
    },
    {
     "ename": "SıfırHatası",
     "evalue": "Lütfen 0 dan farklı bir değer giriniz",
     "output_type": "error",
     "traceback": [
      "\u001b[1;31m---------------------------------------------------------------------------\u001b[0m",
      "\u001b[1;31mSıfırHatası\u001b[0m                               Traceback (most recent call last)",
      "\u001b[1;32m<ipython-input-111-3dfef63f3a66>\u001b[0m in \u001b[0;36m<module>\u001b[1;34m\u001b[0m\n\u001b[0;32m      2\u001b[0m \u001b[1;33m\u001b[0m\u001b[0m\n\u001b[0;32m      3\u001b[0m \u001b[1;32mif\u001b[0m \u001b[0mx\u001b[0m\u001b[1;33m==\u001b[0m\u001b[1;36m0\u001b[0m\u001b[1;33m:\u001b[0m\u001b[1;33m\u001b[0m\u001b[1;33m\u001b[0m\u001b[0m\n\u001b[1;32m----> 4\u001b[1;33m     \u001b[1;32mraise\u001b[0m \u001b[0mSıfırHatası\u001b[0m\u001b[1;33m(\u001b[0m\u001b[1;34m\"Lütfen 0 dan farklı bir değer giriniz\"\u001b[0m\u001b[1;33m)\u001b[0m\u001b[1;33m\u001b[0m\u001b[1;33m\u001b[0m\u001b[0m\n\u001b[0m\u001b[0;32m      5\u001b[0m \u001b[1;32melse\u001b[0m\u001b[1;33m:\u001b[0m\u001b[1;33m\u001b[0m\u001b[1;33m\u001b[0m\u001b[0m\n\u001b[0;32m      6\u001b[0m     \u001b[0mprint\u001b[0m\u001b[1;33m(\u001b[0m\u001b[0mx\u001b[0m\u001b[1;33m)\u001b[0m\u001b[1;33m\u001b[0m\u001b[1;33m\u001b[0m\u001b[0m\n",
      "\u001b[1;31mSıfırHatası\u001b[0m: Lütfen 0 dan farklı bir değer giriniz"
     ]
    }
   ],
   "source": [
    "x=int(input(\"bir sayı giriniz:\"))\n",
    "\n",
    "if x==0:\n",
    "    raise SıfırHatası(\"Lütfen 0 dan farklı bir değer giriniz\")\n",
    "else:\n",
    "    print(x)"
   ]
  },
  {
   "cell_type": "markdown",
   "id": "8da794a4",
   "metadata": {},
   "source": [
    "##### Python'da Dosya İşlemleri"
   ]
  },
  {
   "cell_type": "code",
   "execution_count": 114,
   "id": "980a4803",
   "metadata": {},
   "outputs": [],
   "source": [
    "dosya= open(\"dosya.txt\",mode=\"w\",encoding=\"utf-8\")"
   ]
  },
  {
   "cell_type": "code",
   "execution_count": 115,
   "id": "66bf043e",
   "metadata": {},
   "outputs": [
    {
     "data": {
      "text/plain": [
       "2"
      ]
     },
     "execution_count": 115,
     "metadata": {},
     "output_type": "execute_result"
    }
   ],
   "source": [
    "dosya.write(\"Hi\")"
   ]
  },
  {
   "cell_type": "code",
   "execution_count": 116,
   "id": "c9089fb9",
   "metadata": {},
   "outputs": [],
   "source": [
    "dosya.close()"
   ]
  },
  {
   "cell_type": "code",
   "execution_count": 121,
   "id": "1722ba9e",
   "metadata": {},
   "outputs": [],
   "source": [
    "dosya= open(\"dosya.txt\",mode=\"a\",encoding=\"utf-8\")"
   ]
  },
  {
   "cell_type": "code",
   "execution_count": 122,
   "id": "30f0ef3d",
   "metadata": {
    "scrolled": true
   },
   "outputs": [
    {
     "data": {
      "text/plain": [
       "12"
      ]
     },
     "execution_count": 122,
     "metadata": {},
     "output_type": "execute_result"
    }
   ],
   "source": [
    "dosya.write(\" Hello World\")"
   ]
  },
  {
   "cell_type": "markdown",
   "id": "7b966226",
   "metadata": {},
   "source": [
    "###### Dosya Okuma"
   ]
  },
  {
   "cell_type": "code",
   "execution_count": 127,
   "id": "5fd6ecc3",
   "metadata": {},
   "outputs": [],
   "source": [
    "dosya= open(\"dosya.txt\",mode=\"r\",encoding=\"utf-8\")"
   ]
  },
  {
   "cell_type": "code",
   "execution_count": 128,
   "id": "f0b4c910",
   "metadata": {},
   "outputs": [
    {
     "data": {
      "text/plain": [
       "'HiHello WorldHello World Hello World'"
      ]
     },
     "execution_count": 128,
     "metadata": {},
     "output_type": "execute_result"
    }
   ],
   "source": [
    "dosya.read()"
   ]
  },
  {
   "cell_type": "code",
   "execution_count": 135,
   "id": "0dabb81e",
   "metadata": {},
   "outputs": [],
   "source": [
    "dosya= open(\"dosya.txt\",mode=\"r\",encoding=\"utf-8\")"
   ]
  },
  {
   "cell_type": "code",
   "execution_count": 131,
   "id": "fa9895c0",
   "metadata": {},
   "outputs": [
    {
     "name": "stdout",
     "output_type": "stream",
     "text": [
      "HiHello WorldHello World Hello World\n"
     ]
    }
   ],
   "source": [
    "for i in dosya:\n",
    "    print(i)"
   ]
  },
  {
   "cell_type": "code",
   "execution_count": 136,
   "id": "cda64d90",
   "metadata": {},
   "outputs": [
    {
     "data": {
      "text/plain": [
       "['HiHello WorldHello World Hello World']"
      ]
     },
     "execution_count": 136,
     "metadata": {},
     "output_type": "execute_result"
    }
   ],
   "source": [
    "liste = dosya.readlines()\n",
    "liste"
   ]
  },
  {
   "cell_type": "code",
   "execution_count": 137,
   "id": "2863b10a",
   "metadata": {},
   "outputs": [
    {
     "data": {
      "text/plain": [
       "'HiHello WorldHello World Hello World'"
      ]
     },
     "execution_count": 137,
     "metadata": {},
     "output_type": "execute_result"
    }
   ],
   "source": [
    "liste[0]"
   ]
  },
  {
   "cell_type": "markdown",
   "id": "c2f5cb63",
   "metadata": {},
   "source": [
    "###### With Open Yapısı"
   ]
  },
  {
   "cell_type": "code",
   "execution_count": 138,
   "id": "9f5c171d",
   "metadata": {},
   "outputs": [],
   "source": [
    "with open(\"cv.txt\",\"w\",encoding=\"utf-8\") as cv:\n",
    "    cv.write(\"Hi.I am Nilay\")\n",
    "    cv.write(\"I am 23 years old\")"
   ]
  },
  {
   "cell_type": "code",
   "execution_count": 144,
   "id": "0e3043eb",
   "metadata": {},
   "outputs": [
    {
     "name": "stdout",
     "output_type": "stream",
     "text": [
      "\n",
      "5\n"
     ]
    }
   ],
   "source": [
    "with open(\"cv.txt\",\"r\",encoding=\"utf-8\") as cv:\n",
    "    cv.seek(5)\n",
    "    print(cv.read(5))\n",
    "    print(cv.tell())"
   ]
  },
  {
   "cell_type": "markdown",
   "id": "777e7315",
   "metadata": {},
   "source": [
    "##### Iterator"
   ]
  },
  {
   "cell_type": "code",
   "execution_count": 145,
   "id": "4c8cb886",
   "metadata": {},
   "outputs": [],
   "source": [
    "x=\"Nilay\""
   ]
  },
  {
   "cell_type": "code",
   "execution_count": 146,
   "id": "c410bb8a",
   "metadata": {},
   "outputs": [
    {
     "name": "stdout",
     "output_type": "stream",
     "text": [
      "N\n",
      "i\n",
      "l\n",
      "a\n",
      "y\n"
     ]
    }
   ],
   "source": [
    "for i in x:\n",
    "    print(i)"
   ]
  },
  {
   "cell_type": "code",
   "execution_count": 148,
   "id": "f48a14f1",
   "metadata": {},
   "outputs": [],
   "source": [
    "y=[1,2,4,6,7,9]"
   ]
  },
  {
   "cell_type": "code",
   "execution_count": 149,
   "id": "08d844c3",
   "metadata": {},
   "outputs": [
    {
     "name": "stdout",
     "output_type": "stream",
     "text": [
      "1\n",
      "2\n",
      "4\n",
      "6\n",
      "7\n",
      "9\n"
     ]
    }
   ],
   "source": [
    "for i in y:\n",
    "    print(i)"
   ]
  },
  {
   "cell_type": "code",
   "execution_count": 152,
   "id": "a1e97fa7",
   "metadata": {},
   "outputs": [],
   "source": [
    "iterasyon=iter(x)"
   ]
  },
  {
   "cell_type": "code",
   "execution_count": 153,
   "id": "fbc656e2",
   "metadata": {},
   "outputs": [
    {
     "data": {
      "text/plain": [
       "'N'"
      ]
     },
     "execution_count": 153,
     "metadata": {},
     "output_type": "execute_result"
    }
   ],
   "source": [
    "next(iterasyon)"
   ]
  },
  {
   "cell_type": "code",
   "execution_count": 154,
   "id": "f5808fa7",
   "metadata": {},
   "outputs": [
    {
     "data": {
      "text/plain": [
       "'i'"
      ]
     },
     "execution_count": 154,
     "metadata": {},
     "output_type": "execute_result"
    }
   ],
   "source": [
    "next(iterasyon)"
   ]
  },
  {
   "cell_type": "code",
   "execution_count": 155,
   "id": "fb9e6708",
   "metadata": {},
   "outputs": [
    {
     "data": {
      "text/plain": [
       "'l'"
      ]
     },
     "execution_count": 155,
     "metadata": {},
     "output_type": "execute_result"
    }
   ],
   "source": [
    "next(iterasyon)"
   ]
  },
  {
   "cell_type": "code",
   "execution_count": 156,
   "id": "9dd9cb02",
   "metadata": {},
   "outputs": [
    {
     "data": {
      "text/plain": [
       "'a'"
      ]
     },
     "execution_count": 156,
     "metadata": {},
     "output_type": "execute_result"
    }
   ],
   "source": [
    "next(iterasyon)"
   ]
  },
  {
   "cell_type": "code",
   "execution_count": 157,
   "id": "10cfc3c4",
   "metadata": {},
   "outputs": [
    {
     "data": {
      "text/plain": [
       "'y'"
      ]
     },
     "execution_count": 157,
     "metadata": {},
     "output_type": "execute_result"
    }
   ],
   "source": [
    "next(iterasyon)"
   ]
  },
  {
   "cell_type": "code",
   "execution_count": 158,
   "id": "2475e523",
   "metadata": {},
   "outputs": [
    {
     "name": "stdout",
     "output_type": "stream",
     "text": [
      "N\n",
      "i\n",
      "l\n",
      "a\n",
      "y\n"
     ]
    }
   ],
   "source": [
    "iterasyon=iter(x)\n",
    "while True:\n",
    "    try:\n",
    "        eleman=next(iterasyon)\n",
    "        print(eleman)\n",
    "    except:\n",
    "        break"
   ]
  },
  {
   "cell_type": "code",
   "execution_count": 161,
   "id": "73ed0d5c",
   "metadata": {},
   "outputs": [
    {
     "name": "stdout",
     "output_type": "stream",
     "text": [
      "0\n",
      "10\n",
      "20\n",
      "30\n",
      "40\n",
      "50\n"
     ]
    }
   ],
   "source": [
    "class Sayılar:\n",
    "    def __iter__(self):\n",
    "        self.sayı=0\n",
    "        return self\n",
    "    def __next__(self):\n",
    "        x=self.sayı\n",
    "        self.sayı+=10\n",
    "        return x\n",
    "    \n",
    "iterasyon = iter(Sayılar())\n",
    "\n",
    "print(next(iterasyon))\n",
    "print(next(iterasyon))\n",
    "print(next(iterasyon))\n",
    "print(next(iterasyon))\n",
    "print(next(iterasyon))\n",
    "print(next(iterasyon))"
   ]
  },
  {
   "cell_type": "markdown",
   "id": "24fe29a1",
   "metadata": {},
   "source": [
    "##### Generator"
   ]
  },
  {
   "cell_type": "code",
   "execution_count": 164,
   "id": "749d3ae4",
   "metadata": {},
   "outputs": [],
   "source": [
    "def cift(sayi):\n",
    "    cift_sayilar=[]\n",
    "    for i in range (sayi):\n",
    "        cift_sayilar.append(i*2)\n",
    "    return cift_sayilar"
   ]
  },
  {
   "cell_type": "code",
   "execution_count": 165,
   "id": "20b43f06",
   "metadata": {},
   "outputs": [
    {
     "data": {
      "text/plain": [
       "[0, 2, 4, 6, 8, 10, 12, 14, 16, 18, 20, 22, 24, 26, 28, 30, 32, 34, 36, 38]"
      ]
     },
     "execution_count": 165,
     "metadata": {},
     "output_type": "execute_result"
    }
   ],
   "source": [
    "cift(20)"
   ]
  },
  {
   "cell_type": "code",
   "execution_count": 166,
   "id": "2614d8b8",
   "metadata": {},
   "outputs": [],
   "source": [
    "def cift(sayi):\n",
    "    for i in range (sayi):\n",
    "        yield i*2"
   ]
  },
  {
   "cell_type": "code",
   "execution_count": 167,
   "id": "6e775b80",
   "metadata": {},
   "outputs": [
    {
     "data": {
      "text/plain": [
       "<generator object cift at 0x000001696B5AC570>"
      ]
     },
     "execution_count": 167,
     "metadata": {},
     "output_type": "execute_result"
    }
   ],
   "source": [
    "cift(20)"
   ]
  },
  {
   "cell_type": "code",
   "execution_count": 168,
   "id": "2959b3c5",
   "metadata": {},
   "outputs": [
    {
     "name": "stdout",
     "output_type": "stream",
     "text": [
      "0\n",
      "2\n",
      "4\n",
      "6\n",
      "8\n",
      "10\n",
      "12\n",
      "14\n",
      "16\n",
      "18\n",
      "20\n",
      "22\n",
      "24\n",
      "26\n",
      "28\n",
      "30\n",
      "32\n",
      "34\n",
      "36\n",
      "38\n",
      "40\n",
      "42\n",
      "44\n",
      "46\n",
      "48\n",
      "50\n",
      "52\n",
      "54\n",
      "56\n",
      "58\n",
      "60\n",
      "62\n",
      "64\n",
      "66\n",
      "68\n",
      "70\n",
      "72\n",
      "74\n",
      "76\n",
      "78\n",
      "80\n",
      "82\n",
      "84\n",
      "86\n",
      "88\n",
      "90\n",
      "92\n",
      "94\n",
      "96\n",
      "98\n",
      "100\n",
      "102\n",
      "104\n",
      "106\n",
      "108\n",
      "110\n",
      "112\n",
      "114\n",
      "116\n",
      "118\n",
      "120\n",
      "122\n",
      "124\n",
      "126\n",
      "128\n",
      "130\n",
      "132\n",
      "134\n",
      "136\n",
      "138\n",
      "140\n",
      "142\n",
      "144\n",
      "146\n",
      "148\n",
      "150\n",
      "152\n",
      "154\n",
      "156\n",
      "158\n",
      "160\n",
      "162\n",
      "164\n",
      "166\n",
      "168\n",
      "170\n",
      "172\n",
      "174\n",
      "176\n",
      "178\n",
      "180\n",
      "182\n",
      "184\n",
      "186\n",
      "188\n",
      "190\n",
      "192\n",
      "194\n",
      "196\n",
      "198\n",
      "200\n",
      "202\n",
      "204\n",
      "206\n",
      "208\n",
      "210\n",
      "212\n",
      "214\n",
      "216\n",
      "218\n",
      "220\n",
      "222\n",
      "224\n",
      "226\n",
      "228\n",
      "230\n",
      "232\n",
      "234\n",
      "236\n",
      "238\n",
      "240\n",
      "242\n",
      "244\n",
      "246\n",
      "248\n",
      "250\n",
      "252\n",
      "254\n",
      "256\n",
      "258\n",
      "260\n",
      "262\n",
      "264\n",
      "266\n",
      "268\n",
      "270\n",
      "272\n",
      "274\n",
      "276\n",
      "278\n",
      "280\n",
      "282\n",
      "284\n",
      "286\n",
      "288\n",
      "290\n",
      "292\n",
      "294\n",
      "296\n",
      "298\n",
      "300\n",
      "302\n",
      "304\n",
      "306\n",
      "308\n",
      "310\n",
      "312\n",
      "314\n",
      "316\n",
      "318\n",
      "320\n",
      "322\n",
      "324\n",
      "326\n",
      "328\n",
      "330\n",
      "332\n",
      "334\n",
      "336\n",
      "338\n",
      "340\n",
      "342\n",
      "344\n",
      "346\n",
      "348\n",
      "350\n",
      "352\n",
      "354\n",
      "356\n",
      "358\n",
      "360\n",
      "362\n",
      "364\n",
      "366\n",
      "368\n",
      "370\n",
      "372\n",
      "374\n",
      "376\n",
      "378\n",
      "380\n",
      "382\n",
      "384\n",
      "386\n",
      "388\n",
      "390\n",
      "392\n",
      "394\n",
      "396\n",
      "398\n",
      "400\n",
      "402\n",
      "404\n",
      "406\n",
      "408\n",
      "410\n",
      "412\n",
      "414\n",
      "416\n",
      "418\n",
      "420\n",
      "422\n",
      "424\n",
      "426\n",
      "428\n",
      "430\n",
      "432\n",
      "434\n",
      "436\n",
      "438\n",
      "440\n",
      "442\n",
      "444\n",
      "446\n",
      "448\n",
      "450\n",
      "452\n",
      "454\n",
      "456\n",
      "458\n",
      "460\n",
      "462\n",
      "464\n",
      "466\n",
      "468\n",
      "470\n",
      "472\n",
      "474\n",
      "476\n",
      "478\n",
      "480\n",
      "482\n",
      "484\n",
      "486\n",
      "488\n",
      "490\n",
      "492\n",
      "494\n",
      "496\n",
      "498\n",
      "500\n",
      "502\n",
      "504\n",
      "506\n",
      "508\n",
      "510\n",
      "512\n",
      "514\n",
      "516\n",
      "518\n",
      "520\n",
      "522\n",
      "524\n",
      "526\n",
      "528\n",
      "530\n",
      "532\n",
      "534\n",
      "536\n",
      "538\n",
      "540\n",
      "542\n",
      "544\n",
      "546\n",
      "548\n",
      "550\n",
      "552\n",
      "554\n",
      "556\n",
      "558\n",
      "560\n",
      "562\n",
      "564\n",
      "566\n",
      "568\n",
      "570\n",
      "572\n",
      "574\n",
      "576\n",
      "578\n",
      "580\n",
      "582\n",
      "584\n",
      "586\n",
      "588\n",
      "590\n",
      "592\n",
      "594\n",
      "596\n",
      "598\n",
      "600\n",
      "602\n",
      "604\n",
      "606\n",
      "608\n",
      "610\n",
      "612\n",
      "614\n",
      "616\n",
      "618\n",
      "620\n",
      "622\n",
      "624\n",
      "626\n",
      "628\n",
      "630\n",
      "632\n",
      "634\n",
      "636\n",
      "638\n",
      "640\n",
      "642\n",
      "644\n",
      "646\n",
      "648\n",
      "650\n",
      "652\n",
      "654\n",
      "656\n",
      "658\n",
      "660\n",
      "662\n",
      "664\n",
      "666\n",
      "668\n",
      "670\n",
      "672\n",
      "674\n",
      "676\n",
      "678\n",
      "680\n",
      "682\n",
      "684\n",
      "686\n",
      "688\n",
      "690\n",
      "692\n",
      "694\n",
      "696\n",
      "698\n",
      "700\n",
      "702\n",
      "704\n",
      "706\n",
      "708\n",
      "710\n",
      "712\n",
      "714\n",
      "716\n",
      "718\n",
      "720\n",
      "722\n",
      "724\n",
      "726\n",
      "728\n",
      "730\n",
      "732\n",
      "734\n",
      "736\n",
      "738\n",
      "740\n",
      "742\n",
      "744\n",
      "746\n",
      "748\n",
      "750\n",
      "752\n",
      "754\n",
      "756\n",
      "758\n",
      "760\n",
      "762\n",
      "764\n",
      "766\n",
      "768\n",
      "770\n",
      "772\n",
      "774\n",
      "776\n",
      "778\n",
      "780\n",
      "782\n",
      "784\n",
      "786\n",
      "788\n",
      "790\n",
      "792\n",
      "794\n",
      "796\n",
      "798\n",
      "800\n",
      "802\n",
      "804\n",
      "806\n",
      "808\n",
      "810\n",
      "812\n",
      "814\n",
      "816\n",
      "818\n",
      "820\n",
      "822\n",
      "824\n",
      "826\n",
      "828\n",
      "830\n",
      "832\n",
      "834\n",
      "836\n",
      "838\n",
      "840\n",
      "842\n",
      "844\n",
      "846\n",
      "848\n",
      "850\n",
      "852\n",
      "854\n",
      "856\n",
      "858\n",
      "860\n",
      "862\n",
      "864\n",
      "866\n",
      "868\n",
      "870\n",
      "872\n",
      "874\n",
      "876\n",
      "878\n",
      "880\n",
      "882\n",
      "884\n",
      "886\n",
      "888\n",
      "890\n",
      "892\n",
      "894\n",
      "896\n",
      "898\n",
      "900\n",
      "902\n",
      "904\n",
      "906\n",
      "908\n",
      "910\n",
      "912\n",
      "914\n",
      "916\n",
      "918\n",
      "920\n",
      "922\n",
      "924\n",
      "926\n",
      "928\n",
      "930\n",
      "932\n",
      "934\n",
      "936\n",
      "938\n",
      "940\n",
      "942\n",
      "944\n",
      "946\n",
      "948\n",
      "950\n",
      "952\n",
      "954\n",
      "956\n",
      "958\n",
      "960\n",
      "962\n",
      "964\n",
      "966\n",
      "968\n",
      "970\n",
      "972\n",
      "974\n",
      "976\n",
      "978\n",
      "980\n",
      "982\n",
      "984\n",
      "986\n",
      "988\n",
      "990\n",
      "992\n",
      "994\n",
      "996\n",
      "998\n",
      "1000\n",
      "1002\n",
      "1004\n",
      "1006\n",
      "1008\n",
      "1010\n",
      "1012\n",
      "1014\n",
      "1016\n",
      "1018\n",
      "1020\n",
      "1022\n",
      "1024\n",
      "1026\n",
      "1028\n",
      "1030\n",
      "1032\n",
      "1034\n",
      "1036\n",
      "1038\n",
      "1040\n",
      "1042\n",
      "1044\n",
      "1046\n",
      "1048\n",
      "1050\n",
      "1052\n",
      "1054\n",
      "1056\n",
      "1058\n",
      "1060\n",
      "1062\n",
      "1064\n",
      "1066\n",
      "1068\n",
      "1070\n",
      "1072\n",
      "1074\n",
      "1076\n",
      "1078\n",
      "1080\n",
      "1082\n",
      "1084\n",
      "1086\n",
      "1088\n",
      "1090\n",
      "1092\n",
      "1094\n",
      "1096\n",
      "1098\n",
      "1100\n",
      "1102\n",
      "1104\n",
      "1106\n",
      "1108\n",
      "1110\n",
      "1112\n",
      "1114\n",
      "1116\n",
      "1118\n",
      "1120\n",
      "1122\n",
      "1124\n",
      "1126\n",
      "1128\n",
      "1130\n",
      "1132\n",
      "1134\n",
      "1136\n",
      "1138\n",
      "1140\n",
      "1142\n",
      "1144\n",
      "1146\n",
      "1148\n",
      "1150\n",
      "1152\n",
      "1154\n",
      "1156\n",
      "1158\n",
      "1160\n",
      "1162\n",
      "1164\n",
      "1166\n",
      "1168\n",
      "1170\n",
      "1172\n",
      "1174\n",
      "1176\n",
      "1178\n",
      "1180\n",
      "1182\n",
      "1184\n",
      "1186\n",
      "1188\n",
      "1190\n",
      "1192\n",
      "1194\n",
      "1196\n",
      "1198\n",
      "1200\n",
      "1202\n",
      "1204\n",
      "1206\n",
      "1208\n",
      "1210\n",
      "1212\n",
      "1214\n",
      "1216\n",
      "1218\n",
      "1220\n",
      "1222\n",
      "1224\n",
      "1226\n",
      "1228\n",
      "1230\n",
      "1232\n",
      "1234\n",
      "1236\n",
      "1238\n",
      "1240\n",
      "1242\n",
      "1244\n",
      "1246\n",
      "1248\n",
      "1250\n",
      "1252\n",
      "1254\n",
      "1256\n",
      "1258\n",
      "1260\n",
      "1262\n",
      "1264\n",
      "1266\n",
      "1268\n",
      "1270\n",
      "1272\n",
      "1274\n",
      "1276\n",
      "1278\n",
      "1280\n",
      "1282\n",
      "1284\n",
      "1286\n",
      "1288\n",
      "1290\n",
      "1292\n",
      "1294\n",
      "1296\n",
      "1298\n",
      "1300\n",
      "1302\n",
      "1304\n",
      "1306\n",
      "1308\n",
      "1310\n",
      "1312\n",
      "1314\n",
      "1316\n",
      "1318\n",
      "1320\n",
      "1322\n",
      "1324\n",
      "1326\n",
      "1328\n",
      "1330\n",
      "1332\n",
      "1334\n",
      "1336\n",
      "1338\n",
      "1340\n",
      "1342\n",
      "1344\n",
      "1346\n",
      "1348\n",
      "1350\n",
      "1352\n",
      "1354\n",
      "1356\n",
      "1358\n",
      "1360\n",
      "1362\n",
      "1364\n",
      "1366\n",
      "1368\n",
      "1370\n",
      "1372\n",
      "1374\n",
      "1376\n",
      "1378\n",
      "1380\n",
      "1382\n",
      "1384\n",
      "1386\n",
      "1388\n",
      "1390\n",
      "1392\n",
      "1394\n",
      "1396\n",
      "1398\n",
      "1400\n",
      "1402\n",
      "1404\n",
      "1406\n",
      "1408\n",
      "1410\n",
      "1412\n",
      "1414\n",
      "1416\n",
      "1418\n",
      "1420\n",
      "1422\n",
      "1424\n",
      "1426\n",
      "1428\n",
      "1430\n",
      "1432\n",
      "1434\n",
      "1436\n",
      "1438\n",
      "1440\n",
      "1442\n",
      "1444\n",
      "1446\n",
      "1448\n",
      "1450\n",
      "1452\n",
      "1454\n",
      "1456\n",
      "1458\n",
      "1460\n",
      "1462\n",
      "1464\n",
      "1466\n",
      "1468\n",
      "1470\n",
      "1472\n",
      "1474\n",
      "1476\n",
      "1478\n",
      "1480\n",
      "1482\n",
      "1484\n",
      "1486\n",
      "1488\n",
      "1490\n",
      "1492\n",
      "1494\n",
      "1496\n",
      "1498\n",
      "1500\n",
      "1502\n",
      "1504\n",
      "1506\n",
      "1508\n",
      "1510\n",
      "1512\n",
      "1514\n",
      "1516\n",
      "1518\n",
      "1520\n",
      "1522\n",
      "1524\n",
      "1526\n",
      "1528\n",
      "1530\n",
      "1532\n",
      "1534\n",
      "1536\n",
      "1538\n",
      "1540\n",
      "1542\n",
      "1544\n",
      "1546\n",
      "1548\n",
      "1550\n",
      "1552\n",
      "1554\n",
      "1556\n",
      "1558\n",
      "1560\n",
      "1562\n",
      "1564\n",
      "1566\n",
      "1568\n",
      "1570\n",
      "1572\n",
      "1574\n",
      "1576\n",
      "1578\n",
      "1580\n",
      "1582\n",
      "1584\n",
      "1586\n",
      "1588\n",
      "1590\n",
      "1592\n",
      "1594\n",
      "1596\n",
      "1598\n",
      "1600\n",
      "1602\n",
      "1604\n",
      "1606\n",
      "1608\n",
      "1610\n",
      "1612\n",
      "1614\n",
      "1616\n",
      "1618\n",
      "1620\n",
      "1622\n",
      "1624\n",
      "1626\n",
      "1628\n",
      "1630\n",
      "1632\n",
      "1634\n",
      "1636\n",
      "1638\n",
      "1640\n",
      "1642\n",
      "1644\n",
      "1646\n",
      "1648\n",
      "1650\n",
      "1652\n",
      "1654\n",
      "1656\n",
      "1658\n",
      "1660\n",
      "1662\n",
      "1664\n",
      "1666\n",
      "1668\n",
      "1670\n",
      "1672\n",
      "1674\n",
      "1676\n",
      "1678\n",
      "1680\n",
      "1682\n",
      "1684\n",
      "1686\n",
      "1688\n",
      "1690\n",
      "1692\n",
      "1694\n",
      "1696\n",
      "1698\n",
      "1700\n",
      "1702\n",
      "1704\n",
      "1706\n",
      "1708\n",
      "1710\n",
      "1712\n",
      "1714\n",
      "1716\n",
      "1718\n",
      "1720\n",
      "1722\n",
      "1724\n",
      "1726\n",
      "1728\n",
      "1730\n",
      "1732\n",
      "1734\n",
      "1736\n",
      "1738\n",
      "1740\n",
      "1742\n",
      "1744\n",
      "1746\n",
      "1748\n",
      "1750\n",
      "1752\n",
      "1754\n",
      "1756\n",
      "1758\n",
      "1760\n",
      "1762\n",
      "1764\n",
      "1766\n",
      "1768\n",
      "1770\n",
      "1772\n",
      "1774\n",
      "1776\n",
      "1778\n",
      "1780\n",
      "1782\n",
      "1784\n",
      "1786\n",
      "1788\n",
      "1790\n",
      "1792\n",
      "1794\n",
      "1796\n",
      "1798\n",
      "1800\n",
      "1802\n",
      "1804\n",
      "1806\n",
      "1808\n",
      "1810\n",
      "1812\n",
      "1814\n",
      "1816\n",
      "1818\n",
      "1820\n",
      "1822\n",
      "1824\n",
      "1826\n",
      "1828\n",
      "1830\n",
      "1832\n",
      "1834\n",
      "1836\n",
      "1838\n",
      "1840\n",
      "1842\n",
      "1844\n",
      "1846\n",
      "1848\n",
      "1850\n",
      "1852\n",
      "1854\n",
      "1856\n",
      "1858\n",
      "1860\n",
      "1862\n",
      "1864\n",
      "1866\n",
      "1868\n",
      "1870\n",
      "1872\n",
      "1874\n",
      "1876\n",
      "1878\n",
      "1880\n",
      "1882\n",
      "1884\n",
      "1886\n",
      "1888\n",
      "1890\n",
      "1892\n",
      "1894\n",
      "1896\n",
      "1898\n",
      "1900\n",
      "1902\n",
      "1904\n",
      "1906\n",
      "1908\n",
      "1910\n",
      "1912\n",
      "1914\n",
      "1916\n",
      "1918\n",
      "1920\n",
      "1922\n",
      "1924\n",
      "1926\n",
      "1928\n",
      "1930\n",
      "1932\n",
      "1934\n",
      "1936\n",
      "1938\n",
      "1940\n",
      "1942\n",
      "1944\n",
      "1946\n",
      "1948\n",
      "1950\n",
      "1952\n",
      "1954\n",
      "1956\n",
      "1958\n",
      "1960\n",
      "1962\n",
      "1964\n",
      "1966\n",
      "1968\n",
      "1970\n",
      "1972\n",
      "1974\n",
      "1976\n",
      "1978\n",
      "1980\n",
      "1982\n",
      "1984\n",
      "1986\n",
      "1988\n",
      "1990\n",
      "1992\n",
      "1994\n",
      "1996\n",
      "1998\n"
     ]
    }
   ],
   "source": [
    "for i in cift(1000):\n",
    "    print(i)"
   ]
  }
 ],
 "metadata": {
  "kernelspec": {
   "display_name": "Python 3",
   "language": "python",
   "name": "python3"
  },
  "language_info": {
   "codemirror_mode": {
    "name": "ipython",
    "version": 3
   },
   "file_extension": ".py",
   "mimetype": "text/x-python",
   "name": "python",
   "nbconvert_exporter": "python",
   "pygments_lexer": "ipython3",
   "version": "3.6.13"
  }
 },
 "nbformat": 4,
 "nbformat_minor": 5
}
